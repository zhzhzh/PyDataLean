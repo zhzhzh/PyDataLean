{
 "cells": [
  {
   "cell_type": "code",
   "execution_count": 4,
   "metadata": {
    "collapsed": true
   },
   "outputs": [],
   "source": [
    "from pandas import Series, DataFrame\n",
    "import pandas as pd\n",
    "import numpy as np\n",
    "import json\n",
    "import os"
   ]
  },
  {
   "cell_type": "code",
   "execution_count": 3,
   "metadata": {
    "collapsed": true
   },
   "outputs": [],
   "source": [
    "# data_dir = '/Users/jzhang14/python_notebooks/pydata-book/'\n",
    "data_dir = 'E:\\_Workspaces\\JupyterNotebooks\\pydata-book'"
   ]
  },
  {
   "cell_type": "code",
   "execution_count": 2,
   "metadata": {
    "collapsed": true
   },
   "outputs": [],
   "source": [
    "obj = \"\"\"\n",
    "{\"name\": \"Wes\",\n",
    "\"places_lived\": [\"United Status\", \"Spain\", \"Germany\"],\n",
    "\"pet\": null,\n",
    "\"siblings\": [{\"name\": \"Scott\", \"age\": 25, \"pet\": \"Zuko\"},\n",
    "                {\"name\": \"Katie\", \"age\": 33, \"pet\": \"Cisco\"}]\n",
    "\n",
    "}\n",
    "\"\"\""
   ]
  },
  {
   "cell_type": "code",
   "execution_count": 4,
   "metadata": {
    "collapsed": true
   },
   "outputs": [],
   "source": [
    "result = json.loads(obj)"
   ]
  },
  {
   "cell_type": "code",
   "execution_count": 5,
   "metadata": {
    "collapsed": false
   },
   "outputs": [
    {
     "data": {
      "text/plain": [
       "{'name': 'Wes',\n",
       " 'pet': None,\n",
       " 'places_lived': ['United Status', 'Spain', 'Germany'],\n",
       " 'siblings': [{'age': 25, 'name': 'Scott', 'pet': 'Zuko'},\n",
       "  {'age': 33, 'name': 'Katie', 'pet': 'Cisco'}]}"
      ]
     },
     "execution_count": 5,
     "metadata": {},
     "output_type": "execute_result"
    }
   ],
   "source": [
    "result"
   ]
  },
  {
   "cell_type": "code",
   "execution_count": 6,
   "metadata": {
    "collapsed": true
   },
   "outputs": [],
   "source": [
    "asjson = json.dumps(result)"
   ]
  },
  {
   "cell_type": "code",
   "execution_count": 7,
   "metadata": {
    "collapsed": false
   },
   "outputs": [
    {
     "data": {
      "text/plain": [
       "'{\"name\": \"Wes\", \"places_lived\": [\"United Status\", \"Spain\", \"Germany\"], \"pet\": null, \"siblings\": [{\"name\": \"Scott\", \"age\": 25, \"pet\": \"Zuko\"}, {\"name\": \"Katie\", \"age\": 33, \"pet\": \"Cisco\"}]}'"
      ]
     },
     "execution_count": 7,
     "metadata": {},
     "output_type": "execute_result"
    }
   ],
   "source": [
    "asjson"
   ]
  },
  {
   "cell_type": "code",
   "execution_count": 8,
   "metadata": {
    "collapsed": true
   },
   "outputs": [],
   "source": [
    "siblings = DataFrame(result['siblings'], columns=['name', 'age'])"
   ]
  },
  {
   "cell_type": "code",
   "execution_count": 9,
   "metadata": {
    "collapsed": false
   },
   "outputs": [
    {
     "data": {
      "text/html": [
       "<div>\n",
       "<table border=\"1\" class=\"dataframe\">\n",
       "  <thead>\n",
       "    <tr style=\"text-align: right;\">\n",
       "      <th></th>\n",
       "      <th>name</th>\n",
       "      <th>age</th>\n",
       "    </tr>\n",
       "  </thead>\n",
       "  <tbody>\n",
       "    <tr>\n",
       "      <th>0</th>\n",
       "      <td>Scott</td>\n",
       "      <td>25</td>\n",
       "    </tr>\n",
       "    <tr>\n",
       "      <th>1</th>\n",
       "      <td>Katie</td>\n",
       "      <td>33</td>\n",
       "    </tr>\n",
       "  </tbody>\n",
       "</table>\n",
       "</div>"
      ],
      "text/plain": [
       "    name  age\n",
       "0  Scott   25\n",
       "1  Katie   33"
      ]
     },
     "execution_count": 9,
     "metadata": {},
     "output_type": "execute_result"
    }
   ],
   "source": [
    "siblings"
   ]
  },
  {
   "cell_type": "code",
   "execution_count": 18,
   "metadata": {
    "collapsed": true
   },
   "outputs": [],
   "source": [
    "from lxml import html\n",
    "import requests"
   ]
  },
  {
   "cell_type": "code",
   "execution_count": 19,
   "metadata": {
    "collapsed": false
   },
   "outputs": [],
   "source": [
    "page = requests.get('http://finance.yahoo.com/q/op?s=AAPL+Options')"
   ]
  },
  {
   "cell_type": "code",
   "execution_count": 33,
   "metadata": {
    "collapsed": false
   },
   "outputs": [
    {
     "data": {
      "text/plain": [
       "<Element html at 0xb3b85e8>"
      ]
     },
     "execution_count": 33,
     "metadata": {},
     "output_type": "execute_result"
    }
   ],
   "source": [
    "tree = html.fromstring(page.text)"
   ]
  },
  {
   "cell_type": "code",
   "execution_count": 41,
   "metadata": {
    "collapsed": false
   },
   "outputs": [],
   "source": [
    "links = tree.findall('.//a')"
   ]
  },
  {
   "cell_type": "code",
   "execution_count": 42,
   "metadata": {
    "collapsed": false
   },
   "outputs": [
    {
     "data": {
      "text/plain": [
       "[<Element a at 0xb3b8f48>,\n",
       " <Element a at 0xb3b8f98>,\n",
       " <Element a at 0xb3b5048>,\n",
       " <Element a at 0xb3b5098>,\n",
       " <Element a at 0xb3b50e8>]"
      ]
     },
     "execution_count": 42,
     "metadata": {},
     "output_type": "execute_result"
    }
   ],
   "source": [
    "links[15:20]"
   ]
  },
  {
   "cell_type": "code",
   "execution_count": 43,
   "metadata": {
    "collapsed": true
   },
   "outputs": [],
   "source": [
    "lnk = links[28]"
   ]
  },
  {
   "cell_type": "code",
   "execution_count": 44,
   "metadata": {
    "collapsed": false
   },
   "outputs": [
    {
     "data": {
      "text/plain": [
       "<Element a at 0xb3b53b8>"
      ]
     },
     "execution_count": 44,
     "metadata": {},
     "output_type": "execute_result"
    }
   ],
   "source": [
    "lnk"
   ]
  },
  {
   "cell_type": "code",
   "execution_count": 45,
   "metadata": {
    "collapsed": false
   },
   "outputs": [
    {
     "data": {
      "text/plain": [
       "'/quote/NFLX?p=NFLX'"
      ]
     },
     "execution_count": 45,
     "metadata": {},
     "output_type": "execute_result"
    }
   ],
   "source": [
    "lnk.get('href')"
   ]
  },
  {
   "cell_type": "code",
   "execution_count": 61,
   "metadata": {
    "collapsed": false
   },
   "outputs": [
    {
     "data": {
      "text/plain": [
       "'/quote/TSLA?p=TSLA'"
      ]
     },
     "execution_count": 61,
     "metadata": {},
     "output_type": "execute_result"
    }
   ],
   "source": [
    "links[29].get('href')"
   ]
  },
  {
   "cell_type": "code",
   "execution_count": 47,
   "metadata": {
    "collapsed": false
   },
   "outputs": [
    {
     "data": {
      "text/plain": [
       "'NFLX'"
      ]
     },
     "execution_count": 47,
     "metadata": {},
     "output_type": "execute_result"
    }
   ],
   "source": [
    "lnk.text_content()"
   ]
  },
  {
   "cell_type": "code",
   "execution_count": 48,
   "metadata": {
    "collapsed": true
   },
   "outputs": [],
   "source": [
    "urls = [lnk.get('href') for lnk in doc.findall('.//a')]"
   ]
  },
  {
   "cell_type": "code",
   "execution_count": 49,
   "metadata": {
    "collapsed": false
   },
   "outputs": [
    {
     "data": {
      "text/plain": [
       "['https://smallbusiness.yahoo.com',\n",
       " 'https://help.yahoo.com/kb/index?page=content&y=PROD_FIN_DESK&locale=en_US&id=SLN2310',\n",
       " 'http://help.yahoo.com/l/us/yahoo/finance/',\n",
       " 'https://yahoo.uservoice.com/forums/382977',\n",
       " 'http://info.yahoo.com/privacy/us/yahoo/',\n",
       " 'http://info.yahoo.com/relevantads/',\n",
       " 'http://info.yahoo.com/legal/us/yahoo/utos/utos-173.html',\n",
       " 'http://twitter.com/YahooFinance',\n",
       " 'http://facebook.com/yahoofinance',\n",
       " 'http://yahoofinance.tumblr.com']"
      ]
     },
     "execution_count": 49,
     "metadata": {},
     "output_type": "execute_result"
    }
   ],
   "source": [
    "urls[-10:]"
   ]
  },
  {
   "cell_type": "code",
   "execution_count": 62,
   "metadata": {
    "collapsed": false
   },
   "outputs": [
    {
     "data": {
      "text/plain": [
       "[<Element table at 0xb3bfe58>,\n",
       " <Element table at 0xb3bfcc8>,\n",
       " <Element table at 0xb3bff48>]"
      ]
     },
     "execution_count": 62,
     "metadata": {},
     "output_type": "execute_result"
    }
   ],
   "source": [
    "tables = doc.findall('.//table')\n",
    "tables"
   ]
  },
  {
   "cell_type": "code",
   "execution_count": 54,
   "metadata": {
    "collapsed": false
   },
   "outputs": [],
   "source": [
    "calls = tables[1]"
   ]
  },
  {
   "cell_type": "code",
   "execution_count": 55,
   "metadata": {
    "collapsed": true
   },
   "outputs": [],
   "source": [
    "puts = tables[2]"
   ]
  },
  {
   "cell_type": "code",
   "execution_count": 56,
   "metadata": {
    "collapsed": true
   },
   "outputs": [],
   "source": [
    "rows = calls.findall('.//tr')"
   ]
  },
  {
   "cell_type": "code",
   "execution_count": 57,
   "metadata": {
    "collapsed": true
   },
   "outputs": [],
   "source": [
    "def _unpack(row, kind='td'):\n",
    "    elts = row.findall('.//%s' % kind)\n",
    "    return [val.text_content() for val in elts]"
   ]
  },
  {
   "cell_type": "code",
   "execution_count": 58,
   "metadata": {
    "collapsed": false
   },
   "outputs": [
    {
     "data": {
      "text/plain": [
       "['Strike',\n",
       " 'Contract Name',\n",
       " 'Last Price',\n",
       " 'Bid',\n",
       " 'Ask',\n",
       " 'Change',\n",
       " '% Change',\n",
       " 'Volume',\n",
       " 'Open Interest',\n",
       " 'Implied Volatility']"
      ]
     },
     "execution_count": 58,
     "metadata": {},
     "output_type": "execute_result"
    }
   ],
   "source": [
    "_unpack(rows[0], kind='th')"
   ]
  },
  {
   "cell_type": "code",
   "execution_count": 59,
   "metadata": {
    "collapsed": false
   },
   "outputs": [
    {
     "data": {
      "text/plain": [
       "['2.50',\n",
       " 'AAPL170519C00002500',\n",
       " '153.15',\n",
       " '151.95',\n",
       " '154.40',\n",
       " '8.45',\n",
       " '5.84%',\n",
       " '4',\n",
       " '0',\n",
       " '2,237.50%']"
      ]
     },
     "execution_count": 59,
     "metadata": {},
     "output_type": "execute_result"
    }
   ],
   "source": [
    "_unpack(rows[1], kind='td')"
   ]
  },
  {
   "cell_type": "code",
   "execution_count": 63,
   "metadata": {
    "collapsed": true
   },
   "outputs": [],
   "source": [
    "from pandas.io.parsers import TextParser"
   ]
  },
  {
   "cell_type": "code",
   "execution_count": 65,
   "metadata": {
    "collapsed": true
   },
   "outputs": [],
   "source": [
    "def parse_options_data(table):\n",
    "    rows = table.findall('.//tr')\n",
    "    header = _unpack(rows[0], kind='th')\n",
    "    data = [_unpack(r) for r in rows[1:]]\n",
    "    return TextParser(data, names=header).get_chunk()\n",
    "    "
   ]
  },
  {
   "cell_type": "code",
   "execution_count": 66,
   "metadata": {
    "collapsed": true
   },
   "outputs": [],
   "source": [
    "call_data = parse_options_data(calls)"
   ]
  },
  {
   "cell_type": "code",
   "execution_count": 67,
   "metadata": {
    "collapsed": true
   },
   "outputs": [],
   "source": [
    "put_data = parse_options_data(puts)"
   ]
  },
  {
   "cell_type": "code",
   "execution_count": 68,
   "metadata": {
    "collapsed": false
   },
   "outputs": [
    {
     "data": {
      "text/html": [
       "<div>\n",
       "<table border=\"1\" class=\"dataframe\">\n",
       "  <thead>\n",
       "    <tr style=\"text-align: right;\">\n",
       "      <th></th>\n",
       "      <th>Strike</th>\n",
       "      <th>Contract Name</th>\n",
       "      <th>Last Price</th>\n",
       "      <th>Bid</th>\n",
       "      <th>Ask</th>\n",
       "      <th>Change</th>\n",
       "      <th>% Change</th>\n",
       "      <th>Volume</th>\n",
       "      <th>Open Interest</th>\n",
       "      <th>Implied Volatility</th>\n",
       "    </tr>\n",
       "  </thead>\n",
       "  <tbody>\n",
       "    <tr>\n",
       "      <th>0</th>\n",
       "      <td>2.5</td>\n",
       "      <td>AAPL170519C00002500</td>\n",
       "      <td>153.15</td>\n",
       "      <td>151.95</td>\n",
       "      <td>154.40</td>\n",
       "      <td>8.45</td>\n",
       "      <td>5.84%</td>\n",
       "      <td>4</td>\n",
       "      <td>0</td>\n",
       "      <td>2,237.50%</td>\n",
       "    </tr>\n",
       "    <tr>\n",
       "      <th>1</th>\n",
       "      <td>5.0</td>\n",
       "      <td>AAPL170519C00005000</td>\n",
       "      <td>150.65</td>\n",
       "      <td>149.45</td>\n",
       "      <td>151.65</td>\n",
       "      <td>0.00</td>\n",
       "      <td>0.00%</td>\n",
       "      <td>4</td>\n",
       "      <td>0</td>\n",
       "      <td>1,562.50%</td>\n",
       "    </tr>\n",
       "    <tr>\n",
       "      <th>2</th>\n",
       "      <td>7.5</td>\n",
       "      <td>AAPL170519C00007500</td>\n",
       "      <td>148.05</td>\n",
       "      <td>146.95</td>\n",
       "      <td>149.30</td>\n",
       "      <td>0.00</td>\n",
       "      <td>0.00%</td>\n",
       "      <td>3</td>\n",
       "      <td>0</td>\n",
       "      <td>1,478.13%</td>\n",
       "    </tr>\n",
       "    <tr>\n",
       "      <th>3</th>\n",
       "      <td>10.0</td>\n",
       "      <td>AAPL170519C00010000</td>\n",
       "      <td>143.53</td>\n",
       "      <td>145.65</td>\n",
       "      <td>146.60</td>\n",
       "      <td>0.00</td>\n",
       "      <td>0.00%</td>\n",
       "      <td>10</td>\n",
       "      <td>0</td>\n",
       "      <td>1,665.63%</td>\n",
       "    </tr>\n",
       "    <tr>\n",
       "      <th>4</th>\n",
       "      <td>20.0</td>\n",
       "      <td>AAPL170519C00020000</td>\n",
       "      <td>133.52</td>\n",
       "      <td>135.65</td>\n",
       "      <td>136.60</td>\n",
       "      <td>0.00</td>\n",
       "      <td>0.00%</td>\n",
       "      <td>10</td>\n",
       "      <td>0</td>\n",
       "      <td>1,210.94%</td>\n",
       "    </tr>\n",
       "    <tr>\n",
       "      <th>5</th>\n",
       "      <td>35.0</td>\n",
       "      <td>AAPL170519C00035000</td>\n",
       "      <td>96.80</td>\n",
       "      <td>96.85</td>\n",
       "      <td>97.60</td>\n",
       "      <td>0.00</td>\n",
       "      <td>0.00%</td>\n",
       "      <td>4</td>\n",
       "      <td>0</td>\n",
       "      <td>0.00%</td>\n",
       "    </tr>\n",
       "    <tr>\n",
       "      <th>6</th>\n",
       "      <td>50.0</td>\n",
       "      <td>AAPL170519C00050000</td>\n",
       "      <td>103.10</td>\n",
       "      <td>105.65</td>\n",
       "      <td>106.60</td>\n",
       "      <td>0.00</td>\n",
       "      <td>0.00%</td>\n",
       "      <td>600</td>\n",
       "      <td>0</td>\n",
       "      <td>676.17%</td>\n",
       "    </tr>\n",
       "    <tr>\n",
       "      <th>7</th>\n",
       "      <td>70.0</td>\n",
       "      <td>AAPL170519C00070000</td>\n",
       "      <td>82.94</td>\n",
       "      <td>85.65</td>\n",
       "      <td>86.60</td>\n",
       "      <td>0.00</td>\n",
       "      <td>0.00%</td>\n",
       "      <td>222</td>\n",
       "      <td>0</td>\n",
       "      <td>489.84%</td>\n",
       "    </tr>\n",
       "    <tr>\n",
       "      <th>8</th>\n",
       "      <td>80.0</td>\n",
       "      <td>AAPL170519C00080000</td>\n",
       "      <td>73.42</td>\n",
       "      <td>75.70</td>\n",
       "      <td>76.60</td>\n",
       "      <td>0.00</td>\n",
       "      <td>0.00%</td>\n",
       "      <td>5</td>\n",
       "      <td>0</td>\n",
       "      <td>419.34%</td>\n",
       "    </tr>\n",
       "    <tr>\n",
       "      <th>9</th>\n",
       "      <td>85.0</td>\n",
       "      <td>AAPL170519C00085000</td>\n",
       "      <td>68.45</td>\n",
       "      <td>70.70</td>\n",
       "      <td>71.60</td>\n",
       "      <td>0.00</td>\n",
       "      <td>0.00%</td>\n",
       "      <td>3</td>\n",
       "      <td>0</td>\n",
       "      <td>385.55%</td>\n",
       "    </tr>\n",
       "  </tbody>\n",
       "</table>\n",
       "</div>"
      ],
      "text/plain": [
       "   Strike        Contract Name  Last Price     Bid     Ask  Change % Change  \\\n",
       "0     2.5  AAPL170519C00002500      153.15  151.95  154.40    8.45    5.84%   \n",
       "1     5.0  AAPL170519C00005000      150.65  149.45  151.65    0.00    0.00%   \n",
       "2     7.5  AAPL170519C00007500      148.05  146.95  149.30    0.00    0.00%   \n",
       "3    10.0  AAPL170519C00010000      143.53  145.65  146.60    0.00    0.00%   \n",
       "4    20.0  AAPL170519C00020000      133.52  135.65  136.60    0.00    0.00%   \n",
       "5    35.0  AAPL170519C00035000       96.80   96.85   97.60    0.00    0.00%   \n",
       "6    50.0  AAPL170519C00050000      103.10  105.65  106.60    0.00    0.00%   \n",
       "7    70.0  AAPL170519C00070000       82.94   85.65   86.60    0.00    0.00%   \n",
       "8    80.0  AAPL170519C00080000       73.42   75.70   76.60    0.00    0.00%   \n",
       "9    85.0  AAPL170519C00085000       68.45   70.70   71.60    0.00    0.00%   \n",
       "\n",
       "  Volume Open Interest Implied Volatility  \n",
       "0      4             0          2,237.50%  \n",
       "1      4             0          1,562.50%  \n",
       "2      3             0          1,478.13%  \n",
       "3     10             0          1,665.63%  \n",
       "4     10             0          1,210.94%  \n",
       "5      4             0              0.00%  \n",
       "6    600             0            676.17%  \n",
       "7    222             0            489.84%  \n",
       "8      5             0            419.34%  \n",
       "9      3             0            385.55%  "
      ]
     },
     "execution_count": 68,
     "metadata": {},
     "output_type": "execute_result"
    }
   ],
   "source": [
    "call_data[:10]"
   ]
  },
  {
   "cell_type": "code",
   "execution_count": 2,
   "metadata": {
    "collapsed": true
   },
   "outputs": [],
   "source": [
    "from lxml import objectify"
   ]
  },
  {
   "cell_type": "code",
   "execution_count": 8,
   "metadata": {
    "collapsed": true
   },
   "outputs": [],
   "source": [
    "path = os.path.join(data_dir, 'ch06','mta_perf', 'Performance_MNR.xml')"
   ]
  },
  {
   "cell_type": "code",
   "execution_count": 9,
   "metadata": {
    "collapsed": false
   },
   "outputs": [],
   "source": [
    "parsed = objectify.parse(open(path))"
   ]
  },
  {
   "cell_type": "code",
   "execution_count": 10,
   "metadata": {
    "collapsed": true
   },
   "outputs": [],
   "source": [
    "root = parsed.getroot()"
   ]
  },
  {
   "cell_type": "code",
   "execution_count": 12,
   "metadata": {
    "collapsed": false
   },
   "outputs": [
    {
     "data": {
      "text/plain": [
       "<Element INDICATOR at 0x4e519c8>"
      ]
     },
     "execution_count": 12,
     "metadata": {},
     "output_type": "execute_result"
    }
   ],
   "source": [
    "root.INDICATOR"
   ]
  },
  {
   "cell_type": "code",
   "execution_count": 13,
   "metadata": {
    "collapsed": true
   },
   "outputs": [],
   "source": [
    "data = []"
   ]
  },
  {
   "cell_type": "code",
   "execution_count": 14,
   "metadata": {
    "collapsed": true
   },
   "outputs": [],
   "source": [
    "skip_fields = ['PARENT_SEQ', 'INDICATOR_SEQ', 'DESIRED_CHANGE', 'DECIMAL_PLACES']\n",
    "for elt in root.INDICATOR:\n",
    "    el_data = {}\n",
    "    for child in elt.getchildren():\n",
    "        if child.tag in skip_fields:\n",
    "            continue\n",
    "        el_data[child.tag] = child.pyval\n",
    "    data.append(el_data)"
   ]
  },
  {
   "cell_type": "code",
   "execution_count": 15,
   "metadata": {
    "collapsed": true
   },
   "outputs": [],
   "source": [
    "perf = DataFrame(data)"
   ]
  },
  {
   "cell_type": "code",
   "execution_count": 16,
   "metadata": {
    "collapsed": false
   },
   "outputs": [
    {
     "data": {
      "text/html": [
       "<div>\n",
       "<table border=\"1\" class=\"dataframe\">\n",
       "  <thead>\n",
       "    <tr style=\"text-align: right;\">\n",
       "      <th></th>\n",
       "      <th>AGENCY_NAME</th>\n",
       "      <th>CATEGORY</th>\n",
       "      <th>DESCRIPTION</th>\n",
       "      <th>FREQUENCY</th>\n",
       "      <th>INDICATOR_NAME</th>\n",
       "      <th>INDICATOR_UNIT</th>\n",
       "      <th>MONTHLY_ACTUAL</th>\n",
       "      <th>MONTHLY_TARGET</th>\n",
       "      <th>PERIOD_MONTH</th>\n",
       "      <th>PERIOD_YEAR</th>\n",
       "      <th>YTD_ACTUAL</th>\n",
       "      <th>YTD_TARGET</th>\n",
       "    </tr>\n",
       "  </thead>\n",
       "  <tbody>\n",
       "    <tr>\n",
       "      <th>0</th>\n",
       "      <td>Metro-North Railroad</td>\n",
       "      <td>Service Indicators</td>\n",
       "      <td>Percent of commuter trains that arrive at thei...</td>\n",
       "      <td>M</td>\n",
       "      <td>On-Time Performance (West of Hudson)</td>\n",
       "      <td>%</td>\n",
       "      <td>96.9</td>\n",
       "      <td>95</td>\n",
       "      <td>1</td>\n",
       "      <td>2008</td>\n",
       "      <td>96.9</td>\n",
       "      <td>95</td>\n",
       "    </tr>\n",
       "    <tr>\n",
       "      <th>1</th>\n",
       "      <td>Metro-North Railroad</td>\n",
       "      <td>Service Indicators</td>\n",
       "      <td>Percent of commuter trains that arrive at thei...</td>\n",
       "      <td>M</td>\n",
       "      <td>On-Time Performance (West of Hudson)</td>\n",
       "      <td>%</td>\n",
       "      <td>95</td>\n",
       "      <td>95</td>\n",
       "      <td>2</td>\n",
       "      <td>2008</td>\n",
       "      <td>96</td>\n",
       "      <td>95</td>\n",
       "    </tr>\n",
       "    <tr>\n",
       "      <th>2</th>\n",
       "      <td>Metro-North Railroad</td>\n",
       "      <td>Service Indicators</td>\n",
       "      <td>Percent of commuter trains that arrive at thei...</td>\n",
       "      <td>M</td>\n",
       "      <td>On-Time Performance (West of Hudson)</td>\n",
       "      <td>%</td>\n",
       "      <td>96.9</td>\n",
       "      <td>95</td>\n",
       "      <td>3</td>\n",
       "      <td>2008</td>\n",
       "      <td>96.3</td>\n",
       "      <td>95</td>\n",
       "    </tr>\n",
       "    <tr>\n",
       "      <th>3</th>\n",
       "      <td>Metro-North Railroad</td>\n",
       "      <td>Service Indicators</td>\n",
       "      <td>Percent of commuter trains that arrive at thei...</td>\n",
       "      <td>M</td>\n",
       "      <td>On-Time Performance (West of Hudson)</td>\n",
       "      <td>%</td>\n",
       "      <td>98.3</td>\n",
       "      <td>95</td>\n",
       "      <td>4</td>\n",
       "      <td>2008</td>\n",
       "      <td>96.8</td>\n",
       "      <td>95</td>\n",
       "    </tr>\n",
       "    <tr>\n",
       "      <th>4</th>\n",
       "      <td>Metro-North Railroad</td>\n",
       "      <td>Service Indicators</td>\n",
       "      <td>Percent of commuter trains that arrive at thei...</td>\n",
       "      <td>M</td>\n",
       "      <td>On-Time Performance (West of Hudson)</td>\n",
       "      <td>%</td>\n",
       "      <td>95.8</td>\n",
       "      <td>95</td>\n",
       "      <td>5</td>\n",
       "      <td>2008</td>\n",
       "      <td>96.6</td>\n",
       "      <td>95</td>\n",
       "    </tr>\n",
       "    <tr>\n",
       "      <th>5</th>\n",
       "      <td>Metro-North Railroad</td>\n",
       "      <td>Service Indicators</td>\n",
       "      <td>Percent of commuter trains that arrive at thei...</td>\n",
       "      <td>M</td>\n",
       "      <td>On-Time Performance (West of Hudson)</td>\n",
       "      <td>%</td>\n",
       "      <td>94.4</td>\n",
       "      <td>95</td>\n",
       "      <td>6</td>\n",
       "      <td>2008</td>\n",
       "      <td>96.2</td>\n",
       "      <td>95</td>\n",
       "    </tr>\n",
       "    <tr>\n",
       "      <th>6</th>\n",
       "      <td>Metro-North Railroad</td>\n",
       "      <td>Service Indicators</td>\n",
       "      <td>Percent of commuter trains that arrive at thei...</td>\n",
       "      <td>M</td>\n",
       "      <td>On-Time Performance (West of Hudson)</td>\n",
       "      <td>%</td>\n",
       "      <td>96</td>\n",
       "      <td>95</td>\n",
       "      <td>7</td>\n",
       "      <td>2008</td>\n",
       "      <td>96.2</td>\n",
       "      <td>95</td>\n",
       "    </tr>\n",
       "    <tr>\n",
       "      <th>7</th>\n",
       "      <td>Metro-North Railroad</td>\n",
       "      <td>Service Indicators</td>\n",
       "      <td>Percent of commuter trains that arrive at thei...</td>\n",
       "      <td>M</td>\n",
       "      <td>On-Time Performance (West of Hudson)</td>\n",
       "      <td>%</td>\n",
       "      <td>96.4</td>\n",
       "      <td>95</td>\n",
       "      <td>8</td>\n",
       "      <td>2008</td>\n",
       "      <td>96.2</td>\n",
       "      <td>95</td>\n",
       "    </tr>\n",
       "    <tr>\n",
       "      <th>8</th>\n",
       "      <td>Metro-North Railroad</td>\n",
       "      <td>Service Indicators</td>\n",
       "      <td>Percent of commuter trains that arrive at thei...</td>\n",
       "      <td>M</td>\n",
       "      <td>On-Time Performance (West of Hudson)</td>\n",
       "      <td>%</td>\n",
       "      <td>93.7</td>\n",
       "      <td>95</td>\n",
       "      <td>9</td>\n",
       "      <td>2008</td>\n",
       "      <td>95.9</td>\n",
       "      <td>95</td>\n",
       "    </tr>\n",
       "    <tr>\n",
       "      <th>9</th>\n",
       "      <td>Metro-North Railroad</td>\n",
       "      <td>Service Indicators</td>\n",
       "      <td>Percent of commuter trains that arrive at thei...</td>\n",
       "      <td>M</td>\n",
       "      <td>On-Time Performance (West of Hudson)</td>\n",
       "      <td>%</td>\n",
       "      <td>96.4</td>\n",
       "      <td>95</td>\n",
       "      <td>10</td>\n",
       "      <td>2008</td>\n",
       "      <td>96</td>\n",
       "      <td>95</td>\n",
       "    </tr>\n",
       "    <tr>\n",
       "      <th>10</th>\n",
       "      <td>Metro-North Railroad</td>\n",
       "      <td>Service Indicators</td>\n",
       "      <td>Percent of commuter trains that arrive at thei...</td>\n",
       "      <td>M</td>\n",
       "      <td>On-Time Performance (West of Hudson)</td>\n",
       "      <td>%</td>\n",
       "      <td>96.9</td>\n",
       "      <td>95</td>\n",
       "      <td>11</td>\n",
       "      <td>2008</td>\n",
       "      <td>96.1</td>\n",
       "      <td>95</td>\n",
       "    </tr>\n",
       "    <tr>\n",
       "      <th>11</th>\n",
       "      <td>Metro-North Railroad</td>\n",
       "      <td>Service Indicators</td>\n",
       "      <td>Percent of commuter trains that arrive at thei...</td>\n",
       "      <td>M</td>\n",
       "      <td>On-Time Performance (West of Hudson)</td>\n",
       "      <td>%</td>\n",
       "      <td>95.1</td>\n",
       "      <td>95</td>\n",
       "      <td>12</td>\n",
       "      <td>2008</td>\n",
       "      <td>96</td>\n",
       "      <td>95</td>\n",
       "    </tr>\n",
       "    <tr>\n",
       "      <th>12</th>\n",
       "      <td>Metro-North Railroad</td>\n",
       "      <td>Service Indicators</td>\n",
       "      <td>Percent of commuter trains that arrive at thei...</td>\n",
       "      <td>M</td>\n",
       "      <td>On-Time Performance (West of Hudson)</td>\n",
       "      <td>%</td>\n",
       "      <td>92.6</td>\n",
       "      <td>96.2</td>\n",
       "      <td>1</td>\n",
       "      <td>2009</td>\n",
       "      <td>92.6</td>\n",
       "      <td>96.2</td>\n",
       "    </tr>\n",
       "    <tr>\n",
       "      <th>13</th>\n",
       "      <td>Metro-North Railroad</td>\n",
       "      <td>Service Indicators</td>\n",
       "      <td>Percent of commuter trains that arrive at thei...</td>\n",
       "      <td>M</td>\n",
       "      <td>On-Time Performance (West of Hudson)</td>\n",
       "      <td>%</td>\n",
       "      <td>96.8</td>\n",
       "      <td>96.2</td>\n",
       "      <td>2</td>\n",
       "      <td>2009</td>\n",
       "      <td>94.6</td>\n",
       "      <td>96.2</td>\n",
       "    </tr>\n",
       "    <tr>\n",
       "      <th>14</th>\n",
       "      <td>Metro-North Railroad</td>\n",
       "      <td>Service Indicators</td>\n",
       "      <td>Percent of commuter trains that arrive at thei...</td>\n",
       "      <td>M</td>\n",
       "      <td>On-Time Performance (West of Hudson)</td>\n",
       "      <td>%</td>\n",
       "      <td>96.9</td>\n",
       "      <td>96.2</td>\n",
       "      <td>3</td>\n",
       "      <td>2009</td>\n",
       "      <td>95.4</td>\n",
       "      <td>96.2</td>\n",
       "    </tr>\n",
       "    <tr>\n",
       "      <th>15</th>\n",
       "      <td>Metro-North Railroad</td>\n",
       "      <td>Service Indicators</td>\n",
       "      <td>Percent of commuter trains that arrive at thei...</td>\n",
       "      <td>M</td>\n",
       "      <td>On-Time Performance (West of Hudson)</td>\n",
       "      <td>%</td>\n",
       "      <td>97.1</td>\n",
       "      <td>96.2</td>\n",
       "      <td>4</td>\n",
       "      <td>2009</td>\n",
       "      <td>95.9</td>\n",
       "      <td>96.2</td>\n",
       "    </tr>\n",
       "    <tr>\n",
       "      <th>16</th>\n",
       "      <td>Metro-North Railroad</td>\n",
       "      <td>Service Indicators</td>\n",
       "      <td>Percent of commuter trains that arrive at thei...</td>\n",
       "      <td>M</td>\n",
       "      <td>On-Time Performance (West of Hudson)</td>\n",
       "      <td>%</td>\n",
       "      <td>97.8</td>\n",
       "      <td>96.2</td>\n",
       "      <td>5</td>\n",
       "      <td>2009</td>\n",
       "      <td>96.2</td>\n",
       "      <td>96.2</td>\n",
       "    </tr>\n",
       "    <tr>\n",
       "      <th>17</th>\n",
       "      <td>Metro-North Railroad</td>\n",
       "      <td>Service Indicators</td>\n",
       "      <td>Percent of commuter trains that arrive at thei...</td>\n",
       "      <td>M</td>\n",
       "      <td>On-Time Performance (West of Hudson)</td>\n",
       "      <td>%</td>\n",
       "      <td>97.3</td>\n",
       "      <td>96.2</td>\n",
       "      <td>6</td>\n",
       "      <td>2009</td>\n",
       "      <td>96.4</td>\n",
       "      <td>96.2</td>\n",
       "    </tr>\n",
       "    <tr>\n",
       "      <th>18</th>\n",
       "      <td>Metro-North Railroad</td>\n",
       "      <td>Service Indicators</td>\n",
       "      <td>Percent of commuter trains that arrive at thei...</td>\n",
       "      <td>M</td>\n",
       "      <td>On-Time Performance (West of Hudson)</td>\n",
       "      <td>%</td>\n",
       "      <td>96.7</td>\n",
       "      <td>96.2</td>\n",
       "      <td>7</td>\n",
       "      <td>2009</td>\n",
       "      <td>96.5</td>\n",
       "      <td>96.2</td>\n",
       "    </tr>\n",
       "    <tr>\n",
       "      <th>19</th>\n",
       "      <td>Metro-North Railroad</td>\n",
       "      <td>Service Indicators</td>\n",
       "      <td>Percent of commuter trains that arrive at thei...</td>\n",
       "      <td>M</td>\n",
       "      <td>On-Time Performance (West of Hudson)</td>\n",
       "      <td>%</td>\n",
       "      <td>95.7</td>\n",
       "      <td>96.2</td>\n",
       "      <td>8</td>\n",
       "      <td>2009</td>\n",
       "      <td>96.4</td>\n",
       "      <td>96.2</td>\n",
       "    </tr>\n",
       "    <tr>\n",
       "      <th>20</th>\n",
       "      <td>Metro-North Railroad</td>\n",
       "      <td>Service Indicators</td>\n",
       "      <td>Percent of commuter trains that arrive at thei...</td>\n",
       "      <td>M</td>\n",
       "      <td>On-Time Performance (West of Hudson)</td>\n",
       "      <td>%</td>\n",
       "      <td>96.1</td>\n",
       "      <td>96.2</td>\n",
       "      <td>9</td>\n",
       "      <td>2009</td>\n",
       "      <td>96.3</td>\n",
       "      <td>96.2</td>\n",
       "    </tr>\n",
       "    <tr>\n",
       "      <th>21</th>\n",
       "      <td>Metro-North Railroad</td>\n",
       "      <td>Service Indicators</td>\n",
       "      <td>Percent of commuter trains that arrive at thei...</td>\n",
       "      <td>M</td>\n",
       "      <td>On-Time Performance (West of Hudson)</td>\n",
       "      <td>%</td>\n",
       "      <td>94.8</td>\n",
       "      <td>96.2</td>\n",
       "      <td>10</td>\n",
       "      <td>2009</td>\n",
       "      <td>96.2</td>\n",
       "      <td>96.2</td>\n",
       "    </tr>\n",
       "    <tr>\n",
       "      <th>22</th>\n",
       "      <td>Metro-North Railroad</td>\n",
       "      <td>Service Indicators</td>\n",
       "      <td>Percent of commuter trains that arrive at thei...</td>\n",
       "      <td>M</td>\n",
       "      <td>On-Time Performance (West of Hudson)</td>\n",
       "      <td>%</td>\n",
       "      <td>95.7</td>\n",
       "      <td>96.2</td>\n",
       "      <td>11</td>\n",
       "      <td>2009</td>\n",
       "      <td>96.1</td>\n",
       "      <td>96.2</td>\n",
       "    </tr>\n",
       "    <tr>\n",
       "      <th>23</th>\n",
       "      <td>Metro-North Railroad</td>\n",
       "      <td>Service Indicators</td>\n",
       "      <td>Percent of commuter trains that arrive at thei...</td>\n",
       "      <td>M</td>\n",
       "      <td>On-Time Performance (West of Hudson)</td>\n",
       "      <td>%</td>\n",
       "      <td>95</td>\n",
       "      <td>96.2</td>\n",
       "      <td>12</td>\n",
       "      <td>2009</td>\n",
       "      <td>96</td>\n",
       "      <td>96.2</td>\n",
       "    </tr>\n",
       "    <tr>\n",
       "      <th>24</th>\n",
       "      <td>Metro-North Railroad</td>\n",
       "      <td>Service Indicators</td>\n",
       "      <td>Percent of commuter trains that arrive at thei...</td>\n",
       "      <td>M</td>\n",
       "      <td>On-Time Performance (West of Hudson)</td>\n",
       "      <td>%</td>\n",
       "      <td>98</td>\n",
       "      <td>96.3</td>\n",
       "      <td>1</td>\n",
       "      <td>2010</td>\n",
       "      <td>98</td>\n",
       "      <td>96.3</td>\n",
       "    </tr>\n",
       "    <tr>\n",
       "      <th>25</th>\n",
       "      <td>Metro-North Railroad</td>\n",
       "      <td>Service Indicators</td>\n",
       "      <td>Percent of commuter trains that arrive at thei...</td>\n",
       "      <td>M</td>\n",
       "      <td>On-Time Performance (West of Hudson)</td>\n",
       "      <td>%</td>\n",
       "      <td>93</td>\n",
       "      <td>96.3</td>\n",
       "      <td>2</td>\n",
       "      <td>2010</td>\n",
       "      <td>95.6</td>\n",
       "      <td>96.3</td>\n",
       "    </tr>\n",
       "    <tr>\n",
       "      <th>26</th>\n",
       "      <td>Metro-North Railroad</td>\n",
       "      <td>Service Indicators</td>\n",
       "      <td>Percent of commuter trains that arrive at thei...</td>\n",
       "      <td>M</td>\n",
       "      <td>On-Time Performance (West of Hudson)</td>\n",
       "      <td>%</td>\n",
       "      <td>96.9</td>\n",
       "      <td>96.3</td>\n",
       "      <td>3</td>\n",
       "      <td>2010</td>\n",
       "      <td>96.1</td>\n",
       "      <td>96.3</td>\n",
       "    </tr>\n",
       "    <tr>\n",
       "      <th>27</th>\n",
       "      <td>Metro-North Railroad</td>\n",
       "      <td>Service Indicators</td>\n",
       "      <td>Percent of commuter trains that arrive at thei...</td>\n",
       "      <td>M</td>\n",
       "      <td>On-Time Performance (West of Hudson)</td>\n",
       "      <td>%</td>\n",
       "      <td>98.1</td>\n",
       "      <td>96.3</td>\n",
       "      <td>4</td>\n",
       "      <td>2010</td>\n",
       "      <td>96.6</td>\n",
       "      <td>96.3</td>\n",
       "    </tr>\n",
       "    <tr>\n",
       "      <th>28</th>\n",
       "      <td>Metro-North Railroad</td>\n",
       "      <td>Service Indicators</td>\n",
       "      <td>Percent of commuter trains that arrive at thei...</td>\n",
       "      <td>M</td>\n",
       "      <td>On-Time Performance (West of Hudson)</td>\n",
       "      <td>%</td>\n",
       "      <td>97.6</td>\n",
       "      <td>96.3</td>\n",
       "      <td>5</td>\n",
       "      <td>2010</td>\n",
       "      <td>96.8</td>\n",
       "      <td>96.3</td>\n",
       "    </tr>\n",
       "    <tr>\n",
       "      <th>29</th>\n",
       "      <td>Metro-North Railroad</td>\n",
       "      <td>Service Indicators</td>\n",
       "      <td>Percent of commuter trains that arrive at thei...</td>\n",
       "      <td>M</td>\n",
       "      <td>On-Time Performance (West of Hudson)</td>\n",
       "      <td>%</td>\n",
       "      <td>97.4</td>\n",
       "      <td>96.3</td>\n",
       "      <td>6</td>\n",
       "      <td>2010</td>\n",
       "      <td>96.9</td>\n",
       "      <td>96.3</td>\n",
       "    </tr>\n",
       "    <tr>\n",
       "      <th>...</th>\n",
       "      <td>...</td>\n",
       "      <td>...</td>\n",
       "      <td>...</td>\n",
       "      <td>...</td>\n",
       "      <td>...</td>\n",
       "      <td>...</td>\n",
       "      <td>...</td>\n",
       "      <td>...</td>\n",
       "      <td>...</td>\n",
       "      <td>...</td>\n",
       "      <td>...</td>\n",
       "      <td>...</td>\n",
       "    </tr>\n",
       "    <tr>\n",
       "      <th>618</th>\n",
       "      <td>Metro-North Railroad</td>\n",
       "      <td>Service Indicators</td>\n",
       "      <td>Percent of the time that escalators are operat...</td>\n",
       "      <td>M</td>\n",
       "      <td>Escalator Availability</td>\n",
       "      <td>%</td>\n",
       "      <td>94</td>\n",
       "      <td></td>\n",
       "      <td>7</td>\n",
       "      <td>2009</td>\n",
       "      <td>95.14</td>\n",
       "      <td></td>\n",
       "    </tr>\n",
       "    <tr>\n",
       "      <th>619</th>\n",
       "      <td>Metro-North Railroad</td>\n",
       "      <td>Service Indicators</td>\n",
       "      <td>Percent of the time that escalators are operat...</td>\n",
       "      <td>M</td>\n",
       "      <td>Escalator Availability</td>\n",
       "      <td>%</td>\n",
       "      <td>97</td>\n",
       "      <td></td>\n",
       "      <td>8</td>\n",
       "      <td>2009</td>\n",
       "      <td>95.38</td>\n",
       "      <td></td>\n",
       "    </tr>\n",
       "    <tr>\n",
       "      <th>620</th>\n",
       "      <td>Metro-North Railroad</td>\n",
       "      <td>Service Indicators</td>\n",
       "      <td>Percent of the time that escalators are operat...</td>\n",
       "      <td>M</td>\n",
       "      <td>Escalator Availability</td>\n",
       "      <td>%</td>\n",
       "      <td>98.3</td>\n",
       "      <td></td>\n",
       "      <td>9</td>\n",
       "      <td>2009</td>\n",
       "      <td>95.7</td>\n",
       "      <td></td>\n",
       "    </tr>\n",
       "    <tr>\n",
       "      <th>621</th>\n",
       "      <td>Metro-North Railroad</td>\n",
       "      <td>Service Indicators</td>\n",
       "      <td>Percent of the time that escalators are operat...</td>\n",
       "      <td>M</td>\n",
       "      <td>Escalator Availability</td>\n",
       "      <td>%</td>\n",
       "      <td>98.7</td>\n",
       "      <td></td>\n",
       "      <td>10</td>\n",
       "      <td>2009</td>\n",
       "      <td>96</td>\n",
       "      <td></td>\n",
       "    </tr>\n",
       "    <tr>\n",
       "      <th>622</th>\n",
       "      <td>Metro-North Railroad</td>\n",
       "      <td>Service Indicators</td>\n",
       "      <td>Percent of the time that escalators are operat...</td>\n",
       "      <td>M</td>\n",
       "      <td>Escalator Availability</td>\n",
       "      <td>%</td>\n",
       "      <td>98.1</td>\n",
       "      <td></td>\n",
       "      <td>11</td>\n",
       "      <td>2009</td>\n",
       "      <td>96.21</td>\n",
       "      <td></td>\n",
       "    </tr>\n",
       "    <tr>\n",
       "      <th>623</th>\n",
       "      <td>Metro-North Railroad</td>\n",
       "      <td>Service Indicators</td>\n",
       "      <td>Percent of the time that escalators are operat...</td>\n",
       "      <td>M</td>\n",
       "      <td>Escalator Availability</td>\n",
       "      <td>%</td>\n",
       "      <td>100</td>\n",
       "      <td></td>\n",
       "      <td>12</td>\n",
       "      <td>2009</td>\n",
       "      <td>96.5</td>\n",
       "      <td></td>\n",
       "    </tr>\n",
       "    <tr>\n",
       "      <th>624</th>\n",
       "      <td>Metro-North Railroad</td>\n",
       "      <td>Service Indicators</td>\n",
       "      <td>Percent of the time that escalators are operat...</td>\n",
       "      <td>M</td>\n",
       "      <td>Escalator Availability</td>\n",
       "      <td>%</td>\n",
       "      <td>97.95</td>\n",
       "      <td>97</td>\n",
       "      <td>1</td>\n",
       "      <td>2010</td>\n",
       "      <td>97.95</td>\n",
       "      <td>97</td>\n",
       "    </tr>\n",
       "    <tr>\n",
       "      <th>625</th>\n",
       "      <td>Metro-North Railroad</td>\n",
       "      <td>Service Indicators</td>\n",
       "      <td>Percent of the time that escalators are operat...</td>\n",
       "      <td>M</td>\n",
       "      <td>Escalator Availability</td>\n",
       "      <td>%</td>\n",
       "      <td>100</td>\n",
       "      <td>97</td>\n",
       "      <td>2</td>\n",
       "      <td>2010</td>\n",
       "      <td>98.92</td>\n",
       "      <td>97</td>\n",
       "    </tr>\n",
       "    <tr>\n",
       "      <th>626</th>\n",
       "      <td>Metro-North Railroad</td>\n",
       "      <td>Service Indicators</td>\n",
       "      <td>Percent of the time that escalators are operat...</td>\n",
       "      <td>M</td>\n",
       "      <td>Escalator Availability</td>\n",
       "      <td>%</td>\n",
       "      <td>100</td>\n",
       "      <td>97</td>\n",
       "      <td>3</td>\n",
       "      <td>2010</td>\n",
       "      <td>99.29</td>\n",
       "      <td>97</td>\n",
       "    </tr>\n",
       "    <tr>\n",
       "      <th>627</th>\n",
       "      <td>Metro-North Railroad</td>\n",
       "      <td>Service Indicators</td>\n",
       "      <td>Percent of the time that escalators are operat...</td>\n",
       "      <td>M</td>\n",
       "      <td>Escalator Availability</td>\n",
       "      <td>%</td>\n",
       "      <td>100</td>\n",
       "      <td>97</td>\n",
       "      <td>4</td>\n",
       "      <td>2010</td>\n",
       "      <td>99.47</td>\n",
       "      <td>97</td>\n",
       "    </tr>\n",
       "    <tr>\n",
       "      <th>628</th>\n",
       "      <td>Metro-North Railroad</td>\n",
       "      <td>Service Indicators</td>\n",
       "      <td>Percent of the time that escalators are operat...</td>\n",
       "      <td>M</td>\n",
       "      <td>Escalator Availability</td>\n",
       "      <td>%</td>\n",
       "      <td>100</td>\n",
       "      <td>97</td>\n",
       "      <td>5</td>\n",
       "      <td>2010</td>\n",
       "      <td>99.58</td>\n",
       "      <td>97</td>\n",
       "    </tr>\n",
       "    <tr>\n",
       "      <th>629</th>\n",
       "      <td>Metro-North Railroad</td>\n",
       "      <td>Service Indicators</td>\n",
       "      <td>Percent of the time that escalators are operat...</td>\n",
       "      <td>M</td>\n",
       "      <td>Escalator Availability</td>\n",
       "      <td>%</td>\n",
       "      <td>91.21</td>\n",
       "      <td>97</td>\n",
       "      <td>6</td>\n",
       "      <td>2010</td>\n",
       "      <td>98.19</td>\n",
       "      <td>97</td>\n",
       "    </tr>\n",
       "    <tr>\n",
       "      <th>630</th>\n",
       "      <td>Metro-North Railroad</td>\n",
       "      <td>Service Indicators</td>\n",
       "      <td>Percent of the time that escalators are operat...</td>\n",
       "      <td>M</td>\n",
       "      <td>Escalator Availability</td>\n",
       "      <td>%</td>\n",
       "      <td>100</td>\n",
       "      <td>97</td>\n",
       "      <td>7</td>\n",
       "      <td>2010</td>\n",
       "      <td>98.46</td>\n",
       "      <td>97</td>\n",
       "    </tr>\n",
       "    <tr>\n",
       "      <th>631</th>\n",
       "      <td>Metro-North Railroad</td>\n",
       "      <td>Service Indicators</td>\n",
       "      <td>Percent of the time that escalators are operat...</td>\n",
       "      <td>M</td>\n",
       "      <td>Escalator Availability</td>\n",
       "      <td>%</td>\n",
       "      <td>100</td>\n",
       "      <td>97</td>\n",
       "      <td>8</td>\n",
       "      <td>2010</td>\n",
       "      <td>98.69</td>\n",
       "      <td>97</td>\n",
       "    </tr>\n",
       "    <tr>\n",
       "      <th>632</th>\n",
       "      <td>Metro-North Railroad</td>\n",
       "      <td>Service Indicators</td>\n",
       "      <td>Percent of the time that escalators are operat...</td>\n",
       "      <td>M</td>\n",
       "      <td>Escalator Availability</td>\n",
       "      <td>%</td>\n",
       "      <td>95.2</td>\n",
       "      <td>97</td>\n",
       "      <td>9</td>\n",
       "      <td>2010</td>\n",
       "      <td>98.3</td>\n",
       "      <td>97</td>\n",
       "    </tr>\n",
       "    <tr>\n",
       "      <th>633</th>\n",
       "      <td>Metro-North Railroad</td>\n",
       "      <td>Service Indicators</td>\n",
       "      <td>Percent of the time that escalators are operat...</td>\n",
       "      <td>M</td>\n",
       "      <td>Escalator Availability</td>\n",
       "      <td>%</td>\n",
       "      <td>90.91</td>\n",
       "      <td>97</td>\n",
       "      <td>10</td>\n",
       "      <td>2010</td>\n",
       "      <td>97.55</td>\n",
       "      <td>97</td>\n",
       "    </tr>\n",
       "    <tr>\n",
       "      <th>634</th>\n",
       "      <td>Metro-North Railroad</td>\n",
       "      <td>Service Indicators</td>\n",
       "      <td>Percent of the time that escalators are operat...</td>\n",
       "      <td>M</td>\n",
       "      <td>Escalator Availability</td>\n",
       "      <td>%</td>\n",
       "      <td>96.67</td>\n",
       "      <td>97</td>\n",
       "      <td>11</td>\n",
       "      <td>2010</td>\n",
       "      <td>97.47</td>\n",
       "      <td>97</td>\n",
       "    </tr>\n",
       "    <tr>\n",
       "      <th>635</th>\n",
       "      <td>Metro-North Railroad</td>\n",
       "      <td>Service Indicators</td>\n",
       "      <td>Percent of the time that escalators are operat...</td>\n",
       "      <td>M</td>\n",
       "      <td>Escalator Availability</td>\n",
       "      <td>%</td>\n",
       "      <td>90.03</td>\n",
       "      <td>97</td>\n",
       "      <td>12</td>\n",
       "      <td>2010</td>\n",
       "      <td>96.84</td>\n",
       "      <td>97</td>\n",
       "    </tr>\n",
       "    <tr>\n",
       "      <th>636</th>\n",
       "      <td>Metro-North Railroad</td>\n",
       "      <td>Service Indicators</td>\n",
       "      <td>Percent of the time that escalators are operat...</td>\n",
       "      <td>M</td>\n",
       "      <td>Escalator Availability</td>\n",
       "      <td>%</td>\n",
       "      <td>100</td>\n",
       "      <td>97</td>\n",
       "      <td>1</td>\n",
       "      <td>2011</td>\n",
       "      <td>100</td>\n",
       "      <td>97</td>\n",
       "    </tr>\n",
       "    <tr>\n",
       "      <th>637</th>\n",
       "      <td>Metro-North Railroad</td>\n",
       "      <td>Service Indicators</td>\n",
       "      <td>Percent of the time that escalators are operat...</td>\n",
       "      <td>M</td>\n",
       "      <td>Escalator Availability</td>\n",
       "      <td>%</td>\n",
       "      <td>100</td>\n",
       "      <td>97</td>\n",
       "      <td>2</td>\n",
       "      <td>2011</td>\n",
       "      <td>100</td>\n",
       "      <td>97</td>\n",
       "    </tr>\n",
       "    <tr>\n",
       "      <th>638</th>\n",
       "      <td>Metro-North Railroad</td>\n",
       "      <td>Service Indicators</td>\n",
       "      <td>Percent of the time that escalators are operat...</td>\n",
       "      <td>M</td>\n",
       "      <td>Escalator Availability</td>\n",
       "      <td>%</td>\n",
       "      <td>97.07</td>\n",
       "      <td>97</td>\n",
       "      <td>3</td>\n",
       "      <td>2011</td>\n",
       "      <td>98.86</td>\n",
       "      <td>97</td>\n",
       "    </tr>\n",
       "    <tr>\n",
       "      <th>639</th>\n",
       "      <td>Metro-North Railroad</td>\n",
       "      <td>Service Indicators</td>\n",
       "      <td>Percent of the time that escalators are operat...</td>\n",
       "      <td>M</td>\n",
       "      <td>Escalator Availability</td>\n",
       "      <td>%</td>\n",
       "      <td>98.18</td>\n",
       "      <td>97</td>\n",
       "      <td>4</td>\n",
       "      <td>2011</td>\n",
       "      <td>98.76</td>\n",
       "      <td>97</td>\n",
       "    </tr>\n",
       "    <tr>\n",
       "      <th>640</th>\n",
       "      <td>Metro-North Railroad</td>\n",
       "      <td>Service Indicators</td>\n",
       "      <td>Percent of the time that escalators are operat...</td>\n",
       "      <td>M</td>\n",
       "      <td>Escalator Availability</td>\n",
       "      <td>%</td>\n",
       "      <td>79.18</td>\n",
       "      <td>97</td>\n",
       "      <td>5</td>\n",
       "      <td>2011</td>\n",
       "      <td>90.91</td>\n",
       "      <td>97</td>\n",
       "    </tr>\n",
       "    <tr>\n",
       "      <th>641</th>\n",
       "      <td>Metro-North Railroad</td>\n",
       "      <td>Service Indicators</td>\n",
       "      <td>Percent of the time that escalators are operat...</td>\n",
       "      <td>M</td>\n",
       "      <td>Escalator Availability</td>\n",
       "      <td>%</td>\n",
       "      <td></td>\n",
       "      <td>97</td>\n",
       "      <td>6</td>\n",
       "      <td>2011</td>\n",
       "      <td></td>\n",
       "      <td>97</td>\n",
       "    </tr>\n",
       "    <tr>\n",
       "      <th>642</th>\n",
       "      <td>Metro-North Railroad</td>\n",
       "      <td>Service Indicators</td>\n",
       "      <td>Percent of the time that escalators are operat...</td>\n",
       "      <td>M</td>\n",
       "      <td>Escalator Availability</td>\n",
       "      <td>%</td>\n",
       "      <td></td>\n",
       "      <td>97</td>\n",
       "      <td>7</td>\n",
       "      <td>2011</td>\n",
       "      <td></td>\n",
       "      <td>97</td>\n",
       "    </tr>\n",
       "    <tr>\n",
       "      <th>643</th>\n",
       "      <td>Metro-North Railroad</td>\n",
       "      <td>Service Indicators</td>\n",
       "      <td>Percent of the time that escalators are operat...</td>\n",
       "      <td>M</td>\n",
       "      <td>Escalator Availability</td>\n",
       "      <td>%</td>\n",
       "      <td></td>\n",
       "      <td>97</td>\n",
       "      <td>8</td>\n",
       "      <td>2011</td>\n",
       "      <td></td>\n",
       "      <td>97</td>\n",
       "    </tr>\n",
       "    <tr>\n",
       "      <th>644</th>\n",
       "      <td>Metro-North Railroad</td>\n",
       "      <td>Service Indicators</td>\n",
       "      <td>Percent of the time that escalators are operat...</td>\n",
       "      <td>M</td>\n",
       "      <td>Escalator Availability</td>\n",
       "      <td>%</td>\n",
       "      <td></td>\n",
       "      <td>97</td>\n",
       "      <td>9</td>\n",
       "      <td>2011</td>\n",
       "      <td></td>\n",
       "      <td>97</td>\n",
       "    </tr>\n",
       "    <tr>\n",
       "      <th>645</th>\n",
       "      <td>Metro-North Railroad</td>\n",
       "      <td>Service Indicators</td>\n",
       "      <td>Percent of the time that escalators are operat...</td>\n",
       "      <td>M</td>\n",
       "      <td>Escalator Availability</td>\n",
       "      <td>%</td>\n",
       "      <td></td>\n",
       "      <td>97</td>\n",
       "      <td>10</td>\n",
       "      <td>2011</td>\n",
       "      <td></td>\n",
       "      <td>97</td>\n",
       "    </tr>\n",
       "    <tr>\n",
       "      <th>646</th>\n",
       "      <td>Metro-North Railroad</td>\n",
       "      <td>Service Indicators</td>\n",
       "      <td>Percent of the time that escalators are operat...</td>\n",
       "      <td>M</td>\n",
       "      <td>Escalator Availability</td>\n",
       "      <td>%</td>\n",
       "      <td></td>\n",
       "      <td>97</td>\n",
       "      <td>11</td>\n",
       "      <td>2011</td>\n",
       "      <td></td>\n",
       "      <td>97</td>\n",
       "    </tr>\n",
       "    <tr>\n",
       "      <th>647</th>\n",
       "      <td>Metro-North Railroad</td>\n",
       "      <td>Service Indicators</td>\n",
       "      <td>Percent of the time that escalators are operat...</td>\n",
       "      <td>M</td>\n",
       "      <td>Escalator Availability</td>\n",
       "      <td>%</td>\n",
       "      <td></td>\n",
       "      <td>97</td>\n",
       "      <td>12</td>\n",
       "      <td>2011</td>\n",
       "      <td></td>\n",
       "      <td>97</td>\n",
       "    </tr>\n",
       "  </tbody>\n",
       "</table>\n",
       "<p>648 rows × 12 columns</p>\n",
       "</div>"
      ],
      "text/plain": [
       "              AGENCY_NAME            CATEGORY  \\\n",
       "0    Metro-North Railroad  Service Indicators   \n",
       "1    Metro-North Railroad  Service Indicators   \n",
       "2    Metro-North Railroad  Service Indicators   \n",
       "3    Metro-North Railroad  Service Indicators   \n",
       "4    Metro-North Railroad  Service Indicators   \n",
       "5    Metro-North Railroad  Service Indicators   \n",
       "6    Metro-North Railroad  Service Indicators   \n",
       "7    Metro-North Railroad  Service Indicators   \n",
       "8    Metro-North Railroad  Service Indicators   \n",
       "9    Metro-North Railroad  Service Indicators   \n",
       "10   Metro-North Railroad  Service Indicators   \n",
       "11   Metro-North Railroad  Service Indicators   \n",
       "12   Metro-North Railroad  Service Indicators   \n",
       "13   Metro-North Railroad  Service Indicators   \n",
       "14   Metro-North Railroad  Service Indicators   \n",
       "15   Metro-North Railroad  Service Indicators   \n",
       "16   Metro-North Railroad  Service Indicators   \n",
       "17   Metro-North Railroad  Service Indicators   \n",
       "18   Metro-North Railroad  Service Indicators   \n",
       "19   Metro-North Railroad  Service Indicators   \n",
       "20   Metro-North Railroad  Service Indicators   \n",
       "21   Metro-North Railroad  Service Indicators   \n",
       "22   Metro-North Railroad  Service Indicators   \n",
       "23   Metro-North Railroad  Service Indicators   \n",
       "24   Metro-North Railroad  Service Indicators   \n",
       "25   Metro-North Railroad  Service Indicators   \n",
       "26   Metro-North Railroad  Service Indicators   \n",
       "27   Metro-North Railroad  Service Indicators   \n",
       "28   Metro-North Railroad  Service Indicators   \n",
       "29   Metro-North Railroad  Service Indicators   \n",
       "..                    ...                 ...   \n",
       "618  Metro-North Railroad  Service Indicators   \n",
       "619  Metro-North Railroad  Service Indicators   \n",
       "620  Metro-North Railroad  Service Indicators   \n",
       "621  Metro-North Railroad  Service Indicators   \n",
       "622  Metro-North Railroad  Service Indicators   \n",
       "623  Metro-North Railroad  Service Indicators   \n",
       "624  Metro-North Railroad  Service Indicators   \n",
       "625  Metro-North Railroad  Service Indicators   \n",
       "626  Metro-North Railroad  Service Indicators   \n",
       "627  Metro-North Railroad  Service Indicators   \n",
       "628  Metro-North Railroad  Service Indicators   \n",
       "629  Metro-North Railroad  Service Indicators   \n",
       "630  Metro-North Railroad  Service Indicators   \n",
       "631  Metro-North Railroad  Service Indicators   \n",
       "632  Metro-North Railroad  Service Indicators   \n",
       "633  Metro-North Railroad  Service Indicators   \n",
       "634  Metro-North Railroad  Service Indicators   \n",
       "635  Metro-North Railroad  Service Indicators   \n",
       "636  Metro-North Railroad  Service Indicators   \n",
       "637  Metro-North Railroad  Service Indicators   \n",
       "638  Metro-North Railroad  Service Indicators   \n",
       "639  Metro-North Railroad  Service Indicators   \n",
       "640  Metro-North Railroad  Service Indicators   \n",
       "641  Metro-North Railroad  Service Indicators   \n",
       "642  Metro-North Railroad  Service Indicators   \n",
       "643  Metro-North Railroad  Service Indicators   \n",
       "644  Metro-North Railroad  Service Indicators   \n",
       "645  Metro-North Railroad  Service Indicators   \n",
       "646  Metro-North Railroad  Service Indicators   \n",
       "647  Metro-North Railroad  Service Indicators   \n",
       "\n",
       "                                           DESCRIPTION FREQUENCY  \\\n",
       "0    Percent of commuter trains that arrive at thei...         M   \n",
       "1    Percent of commuter trains that arrive at thei...         M   \n",
       "2    Percent of commuter trains that arrive at thei...         M   \n",
       "3    Percent of commuter trains that arrive at thei...         M   \n",
       "4    Percent of commuter trains that arrive at thei...         M   \n",
       "5    Percent of commuter trains that arrive at thei...         M   \n",
       "6    Percent of commuter trains that arrive at thei...         M   \n",
       "7    Percent of commuter trains that arrive at thei...         M   \n",
       "8    Percent of commuter trains that arrive at thei...         M   \n",
       "9    Percent of commuter trains that arrive at thei...         M   \n",
       "10   Percent of commuter trains that arrive at thei...         M   \n",
       "11   Percent of commuter trains that arrive at thei...         M   \n",
       "12   Percent of commuter trains that arrive at thei...         M   \n",
       "13   Percent of commuter trains that arrive at thei...         M   \n",
       "14   Percent of commuter trains that arrive at thei...         M   \n",
       "15   Percent of commuter trains that arrive at thei...         M   \n",
       "16   Percent of commuter trains that arrive at thei...         M   \n",
       "17   Percent of commuter trains that arrive at thei...         M   \n",
       "18   Percent of commuter trains that arrive at thei...         M   \n",
       "19   Percent of commuter trains that arrive at thei...         M   \n",
       "20   Percent of commuter trains that arrive at thei...         M   \n",
       "21   Percent of commuter trains that arrive at thei...         M   \n",
       "22   Percent of commuter trains that arrive at thei...         M   \n",
       "23   Percent of commuter trains that arrive at thei...         M   \n",
       "24   Percent of commuter trains that arrive at thei...         M   \n",
       "25   Percent of commuter trains that arrive at thei...         M   \n",
       "26   Percent of commuter trains that arrive at thei...         M   \n",
       "27   Percent of commuter trains that arrive at thei...         M   \n",
       "28   Percent of commuter trains that arrive at thei...         M   \n",
       "29   Percent of commuter trains that arrive at thei...         M   \n",
       "..                                                 ...       ...   \n",
       "618  Percent of the time that escalators are operat...         M   \n",
       "619  Percent of the time that escalators are operat...         M   \n",
       "620  Percent of the time that escalators are operat...         M   \n",
       "621  Percent of the time that escalators are operat...         M   \n",
       "622  Percent of the time that escalators are operat...         M   \n",
       "623  Percent of the time that escalators are operat...         M   \n",
       "624  Percent of the time that escalators are operat...         M   \n",
       "625  Percent of the time that escalators are operat...         M   \n",
       "626  Percent of the time that escalators are operat...         M   \n",
       "627  Percent of the time that escalators are operat...         M   \n",
       "628  Percent of the time that escalators are operat...         M   \n",
       "629  Percent of the time that escalators are operat...         M   \n",
       "630  Percent of the time that escalators are operat...         M   \n",
       "631  Percent of the time that escalators are operat...         M   \n",
       "632  Percent of the time that escalators are operat...         M   \n",
       "633  Percent of the time that escalators are operat...         M   \n",
       "634  Percent of the time that escalators are operat...         M   \n",
       "635  Percent of the time that escalators are operat...         M   \n",
       "636  Percent of the time that escalators are operat...         M   \n",
       "637  Percent of the time that escalators are operat...         M   \n",
       "638  Percent of the time that escalators are operat...         M   \n",
       "639  Percent of the time that escalators are operat...         M   \n",
       "640  Percent of the time that escalators are operat...         M   \n",
       "641  Percent of the time that escalators are operat...         M   \n",
       "642  Percent of the time that escalators are operat...         M   \n",
       "643  Percent of the time that escalators are operat...         M   \n",
       "644  Percent of the time that escalators are operat...         M   \n",
       "645  Percent of the time that escalators are operat...         M   \n",
       "646  Percent of the time that escalators are operat...         M   \n",
       "647  Percent of the time that escalators are operat...         M   \n",
       "\n",
       "                           INDICATOR_NAME INDICATOR_UNIT MONTHLY_ACTUAL  \\\n",
       "0    On-Time Performance (West of Hudson)              %           96.9   \n",
       "1    On-Time Performance (West of Hudson)              %             95   \n",
       "2    On-Time Performance (West of Hudson)              %           96.9   \n",
       "3    On-Time Performance (West of Hudson)              %           98.3   \n",
       "4    On-Time Performance (West of Hudson)              %           95.8   \n",
       "5    On-Time Performance (West of Hudson)              %           94.4   \n",
       "6    On-Time Performance (West of Hudson)              %             96   \n",
       "7    On-Time Performance (West of Hudson)              %           96.4   \n",
       "8    On-Time Performance (West of Hudson)              %           93.7   \n",
       "9    On-Time Performance (West of Hudson)              %           96.4   \n",
       "10   On-Time Performance (West of Hudson)              %           96.9   \n",
       "11   On-Time Performance (West of Hudson)              %           95.1   \n",
       "12   On-Time Performance (West of Hudson)              %           92.6   \n",
       "13   On-Time Performance (West of Hudson)              %           96.8   \n",
       "14   On-Time Performance (West of Hudson)              %           96.9   \n",
       "15   On-Time Performance (West of Hudson)              %           97.1   \n",
       "16   On-Time Performance (West of Hudson)              %           97.8   \n",
       "17   On-Time Performance (West of Hudson)              %           97.3   \n",
       "18   On-Time Performance (West of Hudson)              %           96.7   \n",
       "19   On-Time Performance (West of Hudson)              %           95.7   \n",
       "20   On-Time Performance (West of Hudson)              %           96.1   \n",
       "21   On-Time Performance (West of Hudson)              %           94.8   \n",
       "22   On-Time Performance (West of Hudson)              %           95.7   \n",
       "23   On-Time Performance (West of Hudson)              %             95   \n",
       "24   On-Time Performance (West of Hudson)              %             98   \n",
       "25   On-Time Performance (West of Hudson)              %             93   \n",
       "26   On-Time Performance (West of Hudson)              %           96.9   \n",
       "27   On-Time Performance (West of Hudson)              %           98.1   \n",
       "28   On-Time Performance (West of Hudson)              %           97.6   \n",
       "29   On-Time Performance (West of Hudson)              %           97.4   \n",
       "..                                    ...            ...            ...   \n",
       "618                Escalator Availability              %             94   \n",
       "619                Escalator Availability              %             97   \n",
       "620                Escalator Availability              %           98.3   \n",
       "621                Escalator Availability              %           98.7   \n",
       "622                Escalator Availability              %           98.1   \n",
       "623                Escalator Availability              %            100   \n",
       "624                Escalator Availability              %          97.95   \n",
       "625                Escalator Availability              %            100   \n",
       "626                Escalator Availability              %            100   \n",
       "627                Escalator Availability              %            100   \n",
       "628                Escalator Availability              %            100   \n",
       "629                Escalator Availability              %          91.21   \n",
       "630                Escalator Availability              %            100   \n",
       "631                Escalator Availability              %            100   \n",
       "632                Escalator Availability              %           95.2   \n",
       "633                Escalator Availability              %          90.91   \n",
       "634                Escalator Availability              %          96.67   \n",
       "635                Escalator Availability              %          90.03   \n",
       "636                Escalator Availability              %            100   \n",
       "637                Escalator Availability              %            100   \n",
       "638                Escalator Availability              %          97.07   \n",
       "639                Escalator Availability              %          98.18   \n",
       "640                Escalator Availability              %          79.18   \n",
       "641                Escalator Availability              %                  \n",
       "642                Escalator Availability              %                  \n",
       "643                Escalator Availability              %                  \n",
       "644                Escalator Availability              %                  \n",
       "645                Escalator Availability              %                  \n",
       "646                Escalator Availability              %                  \n",
       "647                Escalator Availability              %                  \n",
       "\n",
       "    MONTHLY_TARGET  PERIOD_MONTH  PERIOD_YEAR YTD_ACTUAL YTD_TARGET  \n",
       "0               95             1         2008       96.9         95  \n",
       "1               95             2         2008         96         95  \n",
       "2               95             3         2008       96.3         95  \n",
       "3               95             4         2008       96.8         95  \n",
       "4               95             5         2008       96.6         95  \n",
       "5               95             6         2008       96.2         95  \n",
       "6               95             7         2008       96.2         95  \n",
       "7               95             8         2008       96.2         95  \n",
       "8               95             9         2008       95.9         95  \n",
       "9               95            10         2008         96         95  \n",
       "10              95            11         2008       96.1         95  \n",
       "11              95            12         2008         96         95  \n",
       "12            96.2             1         2009       92.6       96.2  \n",
       "13            96.2             2         2009       94.6       96.2  \n",
       "14            96.2             3         2009       95.4       96.2  \n",
       "15            96.2             4         2009       95.9       96.2  \n",
       "16            96.2             5         2009       96.2       96.2  \n",
       "17            96.2             6         2009       96.4       96.2  \n",
       "18            96.2             7         2009       96.5       96.2  \n",
       "19            96.2             8         2009       96.4       96.2  \n",
       "20            96.2             9         2009       96.3       96.2  \n",
       "21            96.2            10         2009       96.2       96.2  \n",
       "22            96.2            11         2009       96.1       96.2  \n",
       "23            96.2            12         2009         96       96.2  \n",
       "24            96.3             1         2010         98       96.3  \n",
       "25            96.3             2         2010       95.6       96.3  \n",
       "26            96.3             3         2010       96.1       96.3  \n",
       "27            96.3             4         2010       96.6       96.3  \n",
       "28            96.3             5         2010       96.8       96.3  \n",
       "29            96.3             6         2010       96.9       96.3  \n",
       "..             ...           ...          ...        ...        ...  \n",
       "618                            7         2009      95.14             \n",
       "619                            8         2009      95.38             \n",
       "620                            9         2009       95.7             \n",
       "621                           10         2009         96             \n",
       "622                           11         2009      96.21             \n",
       "623                           12         2009       96.5             \n",
       "624             97             1         2010      97.95         97  \n",
       "625             97             2         2010      98.92         97  \n",
       "626             97             3         2010      99.29         97  \n",
       "627             97             4         2010      99.47         97  \n",
       "628             97             5         2010      99.58         97  \n",
       "629             97             6         2010      98.19         97  \n",
       "630             97             7         2010      98.46         97  \n",
       "631             97             8         2010      98.69         97  \n",
       "632             97             9         2010       98.3         97  \n",
       "633             97            10         2010      97.55         97  \n",
       "634             97            11         2010      97.47         97  \n",
       "635             97            12         2010      96.84         97  \n",
       "636             97             1         2011        100         97  \n",
       "637             97             2         2011        100         97  \n",
       "638             97             3         2011      98.86         97  \n",
       "639             97             4         2011      98.76         97  \n",
       "640             97             5         2011      90.91         97  \n",
       "641             97             6         2011                    97  \n",
       "642             97             7         2011                    97  \n",
       "643             97             8         2011                    97  \n",
       "644             97             9         2011                    97  \n",
       "645             97            10         2011                    97  \n",
       "646             97            11         2011                    97  \n",
       "647             97            12         2011                    97  \n",
       "\n",
       "[648 rows x 12 columns]"
      ]
     },
     "execution_count": 16,
     "metadata": {},
     "output_type": "execute_result"
    }
   ],
   "source": [
    "perf"
   ]
  },
  {
   "cell_type": "code",
   "execution_count": 22,
   "metadata": {
    "collapsed": false
   },
   "outputs": [],
   "source": [
    "from io import StringIO"
   ]
  },
  {
   "cell_type": "code",
   "execution_count": 23,
   "metadata": {
    "collapsed": true
   },
   "outputs": [],
   "source": [
    "tag = '<a href=\"http://www.google.com\">Google</a>'"
   ]
  },
  {
   "cell_type": "code",
   "execution_count": 24,
   "metadata": {
    "collapsed": true
   },
   "outputs": [],
   "source": [
    "root = objectify.parse(StringIO(tag)).getroot()"
   ]
  },
  {
   "cell_type": "code",
   "execution_count": 25,
   "metadata": {
    "collapsed": false
   },
   "outputs": [
    {
     "data": {
      "text/plain": [
       "<Element a at 0x4e52a08>"
      ]
     },
     "execution_count": 25,
     "metadata": {},
     "output_type": "execute_result"
    }
   ],
   "source": [
    "root"
   ]
  },
  {
   "cell_type": "code",
   "execution_count": 26,
   "metadata": {
    "collapsed": false
   },
   "outputs": [
    {
     "data": {
      "text/plain": [
       "'http://www.google.com'"
      ]
     },
     "execution_count": 26,
     "metadata": {},
     "output_type": "execute_result"
    }
   ],
   "source": [
    "root.get('href')"
   ]
  },
  {
   "cell_type": "code",
   "execution_count": 27,
   "metadata": {
    "collapsed": false
   },
   "outputs": [
    {
     "data": {
      "text/plain": [
       "'Google'"
      ]
     },
     "execution_count": 27,
     "metadata": {},
     "output_type": "execute_result"
    }
   ],
   "source": [
    "root.text"
   ]
  },
  {
   "cell_type": "code",
   "execution_count": 28,
   "metadata": {
    "collapsed": true
   },
   "outputs": [],
   "source": [
    "ex1_csv = os.path.join(data_dir, 'ch06', 'ex1.csv')"
   ]
  },
  {
   "cell_type": "code",
   "execution_count": 29,
   "metadata": {
    "collapsed": false
   },
   "outputs": [
    {
     "data": {
      "text/plain": [
       "'E:\\\\_Workspaces\\\\JupyterNotebooks\\\\pydata-book\\\\ch06\\\\ex1.csv'"
      ]
     },
     "execution_count": 29,
     "metadata": {},
     "output_type": "execute_result"
    }
   ],
   "source": [
    "ex1_csv"
   ]
  },
  {
   "cell_type": "code",
   "execution_count": 30,
   "metadata": {
    "collapsed": true
   },
   "outputs": [],
   "source": [
    "frame = pd.read_csv(ex1_csv)"
   ]
  },
  {
   "cell_type": "code",
   "execution_count": 31,
   "metadata": {
    "collapsed": false
   },
   "outputs": [
    {
     "data": {
      "text/html": [
       "<div>\n",
       "<table border=\"1\" class=\"dataframe\">\n",
       "  <thead>\n",
       "    <tr style=\"text-align: right;\">\n",
       "      <th></th>\n",
       "      <th>a</th>\n",
       "      <th>b</th>\n",
       "      <th>c</th>\n",
       "      <th>d</th>\n",
       "      <th>message</th>\n",
       "    </tr>\n",
       "  </thead>\n",
       "  <tbody>\n",
       "    <tr>\n",
       "      <th>0</th>\n",
       "      <td>1</td>\n",
       "      <td>2</td>\n",
       "      <td>3</td>\n",
       "      <td>4</td>\n",
       "      <td>hello</td>\n",
       "    </tr>\n",
       "    <tr>\n",
       "      <th>1</th>\n",
       "      <td>5</td>\n",
       "      <td>6</td>\n",
       "      <td>7</td>\n",
       "      <td>8</td>\n",
       "      <td>world</td>\n",
       "    </tr>\n",
       "    <tr>\n",
       "      <th>2</th>\n",
       "      <td>9</td>\n",
       "      <td>10</td>\n",
       "      <td>11</td>\n",
       "      <td>12</td>\n",
       "      <td>foo</td>\n",
       "    </tr>\n",
       "  </tbody>\n",
       "</table>\n",
       "</div>"
      ],
      "text/plain": [
       "   a   b   c   d message\n",
       "0  1   2   3   4   hello\n",
       "1  5   6   7   8   world\n",
       "2  9  10  11  12     foo"
      ]
     },
     "execution_count": 31,
     "metadata": {},
     "output_type": "execute_result"
    }
   ],
   "source": [
    "frame"
   ]
  },
  {
   "cell_type": "code",
   "execution_count": 33,
   "metadata": {
    "collapsed": false
   },
   "outputs": [],
   "source": [
    "frame.to_pickle('frame_pickle')"
   ]
  },
  {
   "cell_type": "code",
   "execution_count": 34,
   "metadata": {
    "collapsed": false
   },
   "outputs": [
    {
     "data": {
      "text/html": [
       "<div>\n",
       "<table border=\"1\" class=\"dataframe\">\n",
       "  <thead>\n",
       "    <tr style=\"text-align: right;\">\n",
       "      <th></th>\n",
       "      <th>a</th>\n",
       "      <th>b</th>\n",
       "      <th>c</th>\n",
       "      <th>d</th>\n",
       "      <th>message</th>\n",
       "    </tr>\n",
       "  </thead>\n",
       "  <tbody>\n",
       "    <tr>\n",
       "      <th>0</th>\n",
       "      <td>1</td>\n",
       "      <td>2</td>\n",
       "      <td>3</td>\n",
       "      <td>4</td>\n",
       "      <td>hello</td>\n",
       "    </tr>\n",
       "    <tr>\n",
       "      <th>1</th>\n",
       "      <td>5</td>\n",
       "      <td>6</td>\n",
       "      <td>7</td>\n",
       "      <td>8</td>\n",
       "      <td>world</td>\n",
       "    </tr>\n",
       "    <tr>\n",
       "      <th>2</th>\n",
       "      <td>9</td>\n",
       "      <td>10</td>\n",
       "      <td>11</td>\n",
       "      <td>12</td>\n",
       "      <td>foo</td>\n",
       "    </tr>\n",
       "  </tbody>\n",
       "</table>\n",
       "</div>"
      ],
      "text/plain": [
       "   a   b   c   d message\n",
       "0  1   2   3   4   hello\n",
       "1  5   6   7   8   world\n",
       "2  9  10  11  12     foo"
      ]
     },
     "execution_count": 34,
     "metadata": {},
     "output_type": "execute_result"
    }
   ],
   "source": [
    "pd.read_pickle('frame_pickle')"
   ]
  },
  {
   "cell_type": "code",
   "execution_count": 35,
   "metadata": {
    "collapsed": true
   },
   "outputs": [],
   "source": [
    "store = pd.HDFStore('mydata.h5')"
   ]
  },
  {
   "cell_type": "code",
   "execution_count": 37,
   "metadata": {
    "collapsed": false
   },
   "outputs": [],
   "source": [
    "store['obj1'] = frame"
   ]
  },
  {
   "cell_type": "code",
   "execution_count": 38,
   "metadata": {
    "collapsed": true
   },
   "outputs": [],
   "source": [
    "store['obj1_col'] = frame['a']"
   ]
  },
  {
   "cell_type": "code",
   "execution_count": 39,
   "metadata": {
    "collapsed": false
   },
   "outputs": [
    {
     "data": {
      "text/plain": [
       "<class 'pandas.io.pytables.HDFStore'>\n",
       "File path: mydata.h5\n",
       "/obj1                frame        (shape->[3,5])\n",
       "/obj1_col            series       (shape->[3])  "
      ]
     },
     "execution_count": 39,
     "metadata": {},
     "output_type": "execute_result"
    }
   ],
   "source": [
    "store"
   ]
  },
  {
   "cell_type": "code",
   "execution_count": 40,
   "metadata": {
    "collapsed": false
   },
   "outputs": [
    {
     "data": {
      "text/html": [
       "<div>\n",
       "<table border=\"1\" class=\"dataframe\">\n",
       "  <thead>\n",
       "    <tr style=\"text-align: right;\">\n",
       "      <th></th>\n",
       "      <th>a</th>\n",
       "      <th>b</th>\n",
       "      <th>c</th>\n",
       "      <th>d</th>\n",
       "      <th>message</th>\n",
       "    </tr>\n",
       "  </thead>\n",
       "  <tbody>\n",
       "    <tr>\n",
       "      <th>0</th>\n",
       "      <td>1</td>\n",
       "      <td>2</td>\n",
       "      <td>3</td>\n",
       "      <td>4</td>\n",
       "      <td>hello</td>\n",
       "    </tr>\n",
       "    <tr>\n",
       "      <th>1</th>\n",
       "      <td>5</td>\n",
       "      <td>6</td>\n",
       "      <td>7</td>\n",
       "      <td>8</td>\n",
       "      <td>world</td>\n",
       "    </tr>\n",
       "    <tr>\n",
       "      <th>2</th>\n",
       "      <td>9</td>\n",
       "      <td>10</td>\n",
       "      <td>11</td>\n",
       "      <td>12</td>\n",
       "      <td>foo</td>\n",
       "    </tr>\n",
       "  </tbody>\n",
       "</table>\n",
       "</div>"
      ],
      "text/plain": [
       "   a   b   c   d message\n",
       "0  1   2   3   4   hello\n",
       "1  5   6   7   8   world\n",
       "2  9  10  11  12     foo"
      ]
     },
     "execution_count": 40,
     "metadata": {},
     "output_type": "execute_result"
    }
   ],
   "source": [
    "store['obj1']"
   ]
  },
  {
   "cell_type": "code",
   "execution_count": 42,
   "metadata": {
    "collapsed": false
   },
   "outputs": [],
   "source": [
    "xls_file = pd.ExcelFile('data.xlsx')"
   ]
  },
  {
   "cell_type": "code",
   "execution_count": 43,
   "metadata": {
    "collapsed": true
   },
   "outputs": [],
   "source": [
    "table = xls_file.parse('Sheet1')"
   ]
  },
  {
   "cell_type": "code",
   "execution_count": 44,
   "metadata": {
    "collapsed": false
   },
   "outputs": [
    {
     "data": {
      "text/html": [
       "<div>\n",
       "<table border=\"1\" class=\"dataframe\">\n",
       "  <thead>\n",
       "    <tr style=\"text-align: right;\">\n",
       "      <th></th>\n",
       "      <th>item_type</th>\n",
       "      <th>event_type</th>\n",
       "      <th>Event from</th>\n",
       "    </tr>\n",
       "  </thead>\n",
       "  <tbody>\n",
       "    <tr>\n",
       "      <th>0</th>\n",
       "      <td>rule</td>\n",
       "      <td>activation</td>\n",
       "      <td>Rule Activation from ticketing</td>\n",
       "    </tr>\n",
       "    <tr>\n",
       "      <th>1</th>\n",
       "      <td>rule</td>\n",
       "      <td>deactivate</td>\n",
       "      <td>NaN</td>\n",
       "    </tr>\n",
       "    <tr>\n",
       "      <th>2</th>\n",
       "      <td>rule</td>\n",
       "      <td>disable</td>\n",
       "      <td>Admin disable</td>\n",
       "    </tr>\n",
       "    <tr>\n",
       "      <th>3</th>\n",
       "      <td>rule</td>\n",
       "      <td>enable</td>\n",
       "      <td>Admin enable</td>\n",
       "    </tr>\n",
       "  </tbody>\n",
       "</table>\n",
       "</div>"
      ],
      "text/plain": [
       "  item_type  event_type                      Event from\n",
       "0      rule  activation  Rule Activation from ticketing\n",
       "1      rule  deactivate                             NaN\n",
       "2      rule     disable                   Admin disable\n",
       "3      rule      enable                    Admin enable"
      ]
     },
     "execution_count": 44,
     "metadata": {},
     "output_type": "execute_result"
    }
   ],
   "source": [
    "table"
   ]
  },
  {
   "cell_type": "code",
   "execution_count": null,
   "metadata": {
    "collapsed": true
   },
   "outputs": [],
   "source": []
  }
 ],
 "metadata": {
  "kernelspec": {
   "display_name": "Python 3",
   "language": "python",
   "name": "python3"
  },
  "language_info": {
   "codemirror_mode": {
    "name": "ipython",
    "version": 3
   },
   "file_extension": ".py",
   "mimetype": "text/x-python",
   "name": "python",
   "nbconvert_exporter": "python",
   "pygments_lexer": "ipython3",
   "version": "3.6.0"
  }
 },
 "nbformat": 4,
 "nbformat_minor": 2
}
